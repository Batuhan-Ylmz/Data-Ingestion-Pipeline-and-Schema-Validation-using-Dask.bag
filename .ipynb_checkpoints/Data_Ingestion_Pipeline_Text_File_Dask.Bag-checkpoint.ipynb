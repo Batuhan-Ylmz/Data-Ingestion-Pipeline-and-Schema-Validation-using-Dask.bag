{
 "cells": [
  {
   "cell_type": "code",
   "execution_count": 1,
   "id": "c34fdf8c",
   "metadata": {},
   "outputs": [
    {
     "name": "stdout",
     "output_type": "stream",
     "text": [
      "Overwriting testutility.py\n"
     ]
    }
   ],
   "source": [
    "%%writefile testutility.py\n",
    "import logging\n",
    "import os\n",
    "import subprocess\n",
    "import yaml\n",
    "import pandas as pd\n",
    "import datetime\n",
    "import string\n",
    "import gc\n",
    "import re\n",
    "import nltk\n",
    "from nltk.corpus import stopwords\n",
    "from nltk.tokenize import word_tokenize\n",
    "import string\n",
    "import dask.bag as db\n",
    "\n",
    "# SOME MEMORY-BASED OCCURING ERRORS CAN BE TRIED WITH \"FAKE.TXT\" FILE IN THE REPO \n",
    "\n",
    "################\n",
    "# File Reading #\n",
    "################\n",
    "\n",
    "def read_config_file(filepath):\n",
    "    with open(filepath, 'r') as stream:\n",
    "        try:\n",
    "            return yaml.safe_load(stream)\n",
    "        except yaml.YAMLError as exc:\n",
    "            logging.error(exc)\n",
    "\n",
    "def normalize_text(text):\n",
    "    # Lowercase all letters\n",
    "    text = text.lower()\n",
    "    # Remove punctuation\n",
    "    text = text.translate(str.maketrans(\"\", \"\", string.punctuation))\n",
    "    return text\n",
    "\n",
    "def validate(df, table_config):\n",
    "    file_type = table_config['file_type']\n",
    "    source_file = \"./\" + table_config['file_name'] + f'.{file_type}' \n",
    "    file_size = os.path.getsize(source_file)\n",
    "    file_size = file_size / (1024 * 1024 * 1024)\n",
    "    \n",
    "    '''\n",
    "    Commented due to insufficient amount of memory of my pc\n",
    "    checkpoint_dir = \"C:/Users/BatuhanYILMAZ/Desktop/staj/week6/checkpoints\" \n",
    "    df = df.persist(checkpoint=checkpoint_dir)\n",
    "    '''\n",
    "    min_size = int(table_config['validations']['file_size']['min_size'])\n",
    "    max_size = int(table_config['validations']['file_size']['max_size'])\n",
    "    if file_size > min_size and file_size < max_size:\n",
    "        print(\"File size validation failed\")\n",
    "        print(f\"\"\"Expected file size should be between {min_size} - {max_size} GB \"\"\")\n",
    "        print(f\"\"\"Size of the actual file : {file_size} GB\"\"\")\n",
    "        return False\n",
    "\n",
    "    text_length = (\n",
    "        df.map(lambda text: text.replace(\" \", \"\"))\n",
    "        .flatten()\n",
    "        .map(len)\n",
    "        .sum()\n",
    "        .compute()\n",
    "    )\n",
    "    min_length = int(table_config['validations']['text_length']['min_length'])\n",
    "    max_length = int(table_config['validations']['text_length']['max_length'])\n",
    "    if text_length > min_length and text_length < max_length:\n",
    "        print(\"Text length validation failed\")\n",
    "        print(f\"\"\"Expected text length should be between {min_length} - {max_length} characters\"\"\")\n",
    "        print(f\"\"\"Total text length of actual file : {text_length} characters\"\"\")\n",
    "        return False\n",
    "    \n",
    "    \n",
    "    word_count = (\n",
    "        df.map(normalize_text)\n",
    "        .str.split()\n",
    "        .flatten()\n",
    "        .count()\n",
    "        .compute()\n",
    "    )\n",
    "    min_count = int(table_config['validations']['word_count']['min_count'])\n",
    "    max_count = int(table_config['validations']['word_count']['max_count'])\n",
    "    if word_count > min_count and word_count < max_count:\n",
    "        print(\"Word count validation failed\")\n",
    "        print(f\"\"\"Expected word count should be between {min_count} - {max_count}\"\"\")\n",
    "        print(f\"\"\"Total number of words in the actual file : {word_count}\"\"\")\n",
    "        return False\n",
    "    '''\n",
    "    Commented due to insufficient amount of memory of my pc\n",
    "    pattern = table_config['validations']['format_validation']['required_pattern']\n",
    "    if not any(re.search(pattern, line) for line in df.compute()):\n",
    "        print(\"Format validation failed\")\n",
    "        print(\"Expected file format should start with:\", pattern)\n",
    "        return False\n",
    "    '''\n",
    "    print(\"All validations passed successfully\")\n",
    "    print(f\"\"\"Size of the actual file : {file_size} GB\"\"\")\n",
    "    print(f\"\"\"Total text length of actual file : {text_length} characters\"\"\")\n",
    "    print(f\"\"\"Total number of words in the actual file : {word_count}\"\"\")\n",
    "    #print(f\"\"\"Each paragraph of the file starts with the correct pattern : [pattern] \"\"\")\n",
    "    return True\n",
    "\n",
    "def get_data_summary(bag, table_config):\n",
    "    print(\"---------------Data Summary---------------\")\n",
    "    # Normalize the text and count the total number of words\n",
    "    total_words = (\n",
    "        bag.map(normalize_text)\n",
    "        .str.split()\n",
    "        .flatten()\n",
    "        .count()\n",
    "        .compute()\n",
    "    )\n",
    "    print(\"Total number of words in file: \", total_words)\n",
    "    \n",
    "    # Total length of whole words in the file   \n",
    "    total_length = (\n",
    "        bag.map(lambda text: text.replace(\" \", \"\"))\n",
    "        .flatten()\n",
    "        .map(len)\n",
    "        .sum()\n",
    "        .compute()\n",
    "    )\n",
    "    print(\"Total length of words in file: \", total_length)\n",
    "    \n",
    "    # Get the size of the file\n",
    "    file_type = table_config['file_type']\n",
    "    source_file = \"./\" + table_config['file_name'] + f'.{file_type}' \n",
    "    file_stats = os.stat(source_file)\n",
    "    print(f'File Size in Bytes is {file_stats.st_size}')\n",
    "    print(f'File Size in MegaBytes is {file_stats.st_size / (1024 * 1024)}')\n",
    "    print(f'File Size in GigaBytes is {file_stats.st_size / (1024 * 1024 * 1024)}')\n",
    "    \n",
    "    word_counts = (\n",
    "    bag.map(normalize_text)\n",
    "    .str.split()\n",
    "    .flatten()\n",
    "    .frequencies()\n",
    "    .compute()\n",
    "    )\n",
    "\n",
    "    # Print the word frequencies\n",
    "    print(\"Frequency of words:\")\n",
    "    for word, count in word_counts:\n",
    "        print(f\"{word}: {count}\")\n",
    "\n",
    "def write(bag, table_config):\n",
    "    # Convert the Bag to a DataFrame\n",
    "    df = db.from_sequence(bag).to_dataframe()\n",
    "\n",
    "    # Define the output file path\n",
    "    output_file = \"output_file.txt.gz\"\n",
    "\n",
    "    # Write the DataFrame to a single pipe-separated text file\n",
    "    df.to_csv(output_file, sep=table_config['outbound_delimiter'], compression=\"gzip\", single_file=True, index=False)\n",
    "    \n",
    "    print(\"Gzipped file created:\", output_file)"
   ]
  },
  {
   "cell_type": "code",
   "execution_count": 2,
   "id": "f90bfba2",
   "metadata": {},
   "outputs": [
    {
     "name": "stdout",
     "output_type": "stream",
     "text": [
      "Overwriting file.yaml\n"
     ]
    }
   ],
   "source": [
    "%%writefile file.yaml\n",
    "file_type: txt\n",
    "dataset_name: testfile\n",
    "file_name: data\n",
    "table_name: edsurv\n",
    "inbound_delimiter: \"\\n\\n\"\n",
    "outbound_delimiter: \"|\"\n",
    "validations:\n",
    "  file_size:\n",
    "    min_size: 2\n",
    "    max_size: 10 # gb\n",
    "  text_length:\n",
    "    min_length: 1000000000\n",
    "    max_length: 100000000000\n",
    "  word_count:\n",
    "    min_count: 1000000\n",
    "    max_count: 1000000000000\n",
    "  format_validation:\n",
    "    required_pattern: \"Lorem ipsum\""
   ]
  },
  {
   "cell_type": "code",
   "execution_count": 3,
   "id": "23e5e5ed",
   "metadata": {},
   "outputs": [
    {
     "name": "stdout",
     "output_type": "stream",
     "text": [
      "./data.txt\n"
     ]
    }
   ],
   "source": [
    "# Read config file\n",
    "import testutility as util\n",
    "config_data = util.read_config_file(\"file.yaml\")\n",
    "file_type = config_data['file_type']\n",
    "source_file = \"./\" + config_data['file_name'] + f'.{file_type}'\n",
    "print(source_file)"
   ]
  },
  {
   "cell_type": "code",
   "execution_count": 4,
   "id": "0efe7556",
   "metadata": {},
   "outputs": [
    {
     "data": {
      "text/plain": [
       "{'file_type': 'txt',\n",
       " 'dataset_name': 'testfile',\n",
       " 'file_name': 'data',\n",
       " 'table_name': 'edsurv',\n",
       " 'inbound_delimiter': '\\n\\n',\n",
       " 'outbound_delimiter': '|',\n",
       " 'validations': {'file_size': {'min_size': 2, 'max_size': 10},\n",
       "  'text_length': {'min_length': 1000000000, 'max_length': 100000000000},\n",
       "  'word_count': {'min_count': 1000000, 'max_count': 1000000000000},\n",
       "  'format_validation': {'required_pattern': 'Lorem ipsum'}}}"
      ]
     },
     "execution_count": 4,
     "metadata": {},
     "output_type": "execute_result"
    }
   ],
   "source": [
    "config_data"
   ]
  },
  {
   "cell_type": "code",
   "execution_count": 5,
   "id": "48212a47",
   "metadata": {
    "scrolled": true
   },
   "outputs": [
    {
     "name": "stdout",
     "output_type": "stream",
     "text": [
      "./data.txt\n"
     ]
    }
   ],
   "source": [
    "import time\n",
    "\n",
    "file_type = config_data['file_type']\n",
    "source_file = \"./\" + config_data['file_name'] + f'.{file_type}'\n",
    "print(source_file)"
   ]
  },
  {
   "cell_type": "code",
   "execution_count": 6,
   "id": "f9180f5e",
   "metadata": {
    "scrolled": false
   },
   "outputs": [],
   "source": [
    "# Import data-reading libraries\n",
    "import pandas as pd\n",
    "import dask.dataframe as dd\n",
    "import modin.pandas as mpd\n",
    "import ray as rpd\n",
    "import dask.bag as db"
   ]
  },
  {
   "cell_type": "code",
   "execution_count": 7,
   "id": "c4487913",
   "metadata": {},
   "outputs": [
    {
     "name": "stderr",
     "output_type": "stream",
     "text": [
      "ParserWarning: Falling back to the 'python' engine because the 'c' engine does not support regex separators (separators > 1 char and different from '\\s+' are interpreted as regex); you can avoid this warning by specifying engine='python'.\n"
     ]
    },
    {
     "data": {
      "text/html": [
       "<div>\n",
       "<style scoped>\n",
       "    .dataframe tbody tr th:only-of-type {\n",
       "        vertical-align: middle;\n",
       "    }\n",
       "\n",
       "    .dataframe tbody tr th {\n",
       "        vertical-align: top;\n",
       "    }\n",
       "\n",
       "    .dataframe thead th {\n",
       "        text-align: right;\n",
       "    }\n",
       "</style>\n",
       "<table border=\"1\" class=\"dataframe\">\n",
       "  <thead>\n",
       "    <tr style=\"text-align: right;\">\n",
       "      <th></th>\n",
       "      <th>Lorem ipsum dolor sit amet, consectetur adipiscing elit, sed do eiusmod tempor incididunt ut labore et dolore magna aliqua. Ut enim ad minim veniam, quis nostrud exercitation ullamco laboris nisi ut aliquip ex ea commodo consequat. Duis aute irure dolor in reprehenderit in voluptate velit esse cillum dolore eu fugiat nulla pariatur.</th>\n",
       "    </tr>\n",
       "  </thead>\n",
       "  <tbody>\n",
       "    <tr>\n",
       "      <th>0</th>\n",
       "      <td>Excepteur sint occaecat cupidatat non proident...</td>\n",
       "    </tr>\n",
       "    <tr>\n",
       "      <th>1</th>\n",
       "      <td>quis nostrud exercitation ullamco laboris nisi...</td>\n",
       "    </tr>\n",
       "    <tr>\n",
       "      <th>2</th>\n",
       "      <td>Lorem ipsum dolor sit amet, consectetur adipis...</td>\n",
       "    </tr>\n",
       "    <tr>\n",
       "      <th>3</th>\n",
       "      <td>Excepteur sint occaecat cupidatat non proident...</td>\n",
       "    </tr>\n",
       "    <tr>\n",
       "      <th>4</th>\n",
       "      <td>Excepteur sint occaecat cupidatat non proident...</td>\n",
       "    </tr>\n",
       "  </tbody>\n",
       "</table>\n",
       "</div>"
      ],
      "text/plain": [
       "  Lorem ipsum dolor sit amet, consectetur adipiscing elit, sed do eiusmod tempor incididunt ut labore et dolore magna aliqua. Ut enim ad minim veniam, quis nostrud exercitation ullamco laboris nisi ut aliquip ex ea commodo consequat. Duis aute irure dolor in reprehenderit in voluptate velit esse cillum dolore eu fugiat nulla pariatur.\n",
       "0  Excepteur sint occaecat cupidatat non proident...                                                                                                                                                                                                                                                                                            \n",
       "1  quis nostrud exercitation ullamco laboris nisi...                                                                                                                                                                                                                                                                                            \n",
       "2  Lorem ipsum dolor sit amet, consectetur adipis...                                                                                                                                                                                                                                                                                            \n",
       "3  Excepteur sint occaecat cupidatat non proident...                                                                                                                                                                                                                                                                                            \n",
       "4  Excepteur sint occaecat cupidatat non proident...                                                                                                                                                                                                                                                                                            "
      ]
     },
     "execution_count": 7,
     "metadata": {},
     "output_type": "execute_result"
    }
   ],
   "source": [
    "# Read the file using pandas and measure computation time\n",
    "start_time = time.time()\n",
    "pandas_data = pd.read_csv(source_file, delimiter=config_data['inbound_delimiter'])\n",
    "pandas_time = time.time() - start_time\n",
    "pandas_data.head()"
   ]
  },
  {
   "cell_type": "code",
   "execution_count": 8,
   "id": "8f1f8bc4",
   "metadata": {
    "scrolled": true
   },
   "outputs": [
    {
     "name": "stderr",
     "output_type": "stream",
     "text": [
      "ParserWarning: Falling back to the 'python' engine because the 'c' engine does not support regex separators (separators > 1 char and different from '\\s+' are interpreted as regex); you can avoid this warning by specifying engine='python'.\n",
      "ParserWarning: Falling back to the 'python' engine because the 'c' engine does not support regex separators (separators > 1 char and different from '\\s+' are interpreted as regex); you can avoid this warning by specifying engine='python'.\n",
      "ParserWarning: Falling back to the 'python' engine because the 'c' engine does not support regex separators (separators > 1 char and different from '\\s+' are interpreted as regex); you can avoid this warning by specifying engine='python'.\n",
      "ParserWarning: Falling back to the 'python' engine because the 'c' engine does not support regex separators (separators > 1 char and different from '\\s+' are interpreted as regex); you can avoid this warning by specifying engine='python'.\n",
      "ParserWarning: Falling back to the 'python' engine because the 'c' engine does not support regex separators (separators > 1 char and different from '\\s+' are interpreted as regex); you can avoid this warning by specifying engine='python'.\n",
      "ParserWarning: Falling back to the 'python' engine because the 'c' engine does not support regex separators (separators > 1 char and different from '\\s+' are interpreted as regex); you can avoid this warning by specifying engine='python'.\n",
      "ParserWarning: Falling back to the 'python' engine because the 'c' engine does not support regex separators (separators > 1 char and different from '\\s+' are interpreted as regex); you can avoid this warning by specifying engine='python'.\n",
      "ParserWarning: Falling back to the 'python' engine because the 'c' engine does not support regex separators (separators > 1 char and different from '\\s+' are interpreted as regex); you can avoid this warning by specifying engine='python'.\n",
      "ParserWarning: Falling back to the 'python' engine because the 'c' engine does not support regex separators (separators > 1 char and different from '\\s+' are interpreted as regex); you can avoid this warning by specifying engine='python'.\n",
      "ParserWarning: Falling back to the 'python' engine because the 'c' engine does not support regex separators (separators > 1 char and different from '\\s+' are interpreted as regex); you can avoid this warning by specifying engine='python'.\n",
      "ParserWarning: Falling back to the 'python' engine because the 'c' engine does not support regex separators (separators > 1 char and different from '\\s+' are interpreted as regex); you can avoid this warning by specifying engine='python'.\n",
      "ParserWarning: Falling back to the 'python' engine because the 'c' engine does not support regex separators (separators > 1 char and different from '\\s+' are interpreted as regex); you can avoid this warning by specifying engine='python'.\n",
      "ParserWarning: Falling back to the 'python' engine because the 'c' engine does not support regex separators (separators > 1 char and different from '\\s+' are interpreted as regex); you can avoid this warning by specifying engine='python'.\n",
      "ParserWarning: Falling back to the 'python' engine because the 'c' engine does not support regex separators (separators > 1 char and different from '\\s+' are interpreted as regex); you can avoid this warning by specifying engine='python'.\n",
      "ParserWarning: Falling back to the 'python' engine because the 'c' engine does not support regex separators (separators > 1 char and different from '\\s+' are interpreted as regex); you can avoid this warning by specifying engine='python'.\n",
      "ParserWarning: Falling back to the 'python' engine because the 'c' engine does not support regex separators (separators > 1 char and different from '\\s+' are interpreted as regex); you can avoid this warning by specifying engine='python'.\n",
      "ParserWarning: Falling back to the 'python' engine because the 'c' engine does not support regex separators (separators > 1 char and different from '\\s+' are interpreted as regex); you can avoid this warning by specifying engine='python'.\n",
      "ParserWarning: Falling back to the 'python' engine because the 'c' engine does not support regex separators (separators > 1 char and different from '\\s+' are interpreted as regex); you can avoid this warning by specifying engine='python'.\n",
      "ParserWarning: Falling back to the 'python' engine because the 'c' engine does not support regex separators (separators > 1 char and different from '\\s+' are interpreted as regex); you can avoid this warning by specifying engine='python'.\n",
      "ParserWarning: Falling back to the 'python' engine because the 'c' engine does not support regex separators (separators > 1 char and different from '\\s+' are interpreted as regex); you can avoid this warning by specifying engine='python'.\n",
      "ParserWarning: Falling back to the 'python' engine because the 'c' engine does not support regex separators (separators > 1 char and different from '\\s+' are interpreted as regex); you can avoid this warning by specifying engine='python'.\n",
      "ParserWarning: Falling back to the 'python' engine because the 'c' engine does not support regex separators (separators > 1 char and different from '\\s+' are interpreted as regex); you can avoid this warning by specifying engine='python'.\n"
     ]
    },
    {
     "data": {
      "text/html": [
       "<div>\n",
       "<style scoped>\n",
       "    .dataframe tbody tr th:only-of-type {\n",
       "        vertical-align: middle;\n",
       "    }\n",
       "\n",
       "    .dataframe tbody tr th {\n",
       "        vertical-align: top;\n",
       "    }\n",
       "\n",
       "    .dataframe thead th {\n",
       "        text-align: right;\n",
       "    }\n",
       "</style>\n",
       "<table border=\"1\" class=\"dataframe\">\n",
       "  <thead>\n",
       "    <tr style=\"text-align: right;\">\n",
       "      <th></th>\n",
       "      <th>Lorem ipsum dolor sit amet, consectetur adipiscing elit, sed do eiusmod tempor incididunt ut labore et dolore magna aliqua. Ut enim ad minim veniam, quis nostrud exercitation ullamco laboris nisi ut aliquip ex ea commodo consequat. Duis aute irure dolor in reprehenderit in voluptate velit esse cillum dolore eu fugiat nulla pariatur.</th>\n",
       "    </tr>\n",
       "  </thead>\n",
       "  <tbody>\n",
       "    <tr>\n",
       "      <th>0</th>\n",
       "      <td>Excepteur sint occaecat cupidatat non proident...</td>\n",
       "    </tr>\n",
       "    <tr>\n",
       "      <th>1</th>\n",
       "      <td>quis nostrud exercitation ullamco laboris nisi...</td>\n",
       "    </tr>\n",
       "    <tr>\n",
       "      <th>2</th>\n",
       "      <td>Lorem ipsum dolor sit amet, consectetur adipis...</td>\n",
       "    </tr>\n",
       "    <tr>\n",
       "      <th>3</th>\n",
       "      <td>Excepteur sint occaecat cupidatat non proident...</td>\n",
       "    </tr>\n",
       "    <tr>\n",
       "      <th>4</th>\n",
       "      <td>Excepteur sint occaecat cupidatat non proident...</td>\n",
       "    </tr>\n",
       "  </tbody>\n",
       "</table>\n",
       "</div>"
      ],
      "text/plain": [
       "  Lorem ipsum dolor sit amet, consectetur adipiscing elit, sed do eiusmod tempor incididunt ut labore et dolore magna aliqua. Ut enim ad minim veniam, quis nostrud exercitation ullamco laboris nisi ut aliquip ex ea commodo consequat. Duis aute irure dolor in reprehenderit in voluptate velit esse cillum dolore eu fugiat nulla pariatur.\n",
       "0  Excepteur sint occaecat cupidatat non proident...                                                                                                                                                                                                                                                                                            \n",
       "1  quis nostrud exercitation ullamco laboris nisi...                                                                                                                                                                                                                                                                                            \n",
       "2  Lorem ipsum dolor sit amet, consectetur adipis...                                                                                                                                                                                                                                                                                            \n",
       "3  Excepteur sint occaecat cupidatat non proident...                                                                                                                                                                                                                                                                                            \n",
       "4  Excepteur sint occaecat cupidatat non proident...                                                                                                                                                                                                                                                                                            "
      ]
     },
     "execution_count": 8,
     "metadata": {},
     "output_type": "execute_result"
    }
   ],
   "source": [
    "# Read the file using Dask and measure computation time\n",
    "start_time = time.time()\n",
    "dask_data = dd.read_csv(source_file, delimiter=config_data['inbound_delimiter']).compute()\n",
    "dask_time = time.time() - start_time\n",
    "dask_data.head()"
   ]
  },
  {
   "cell_type": "code",
   "execution_count": 9,
   "id": "4a12cfc3",
   "metadata": {
    "scrolled": true
   },
   "outputs": [
    {
     "name": "stderr",
     "output_type": "stream",
     "text": [
      "UserWarning: Ray execution environment not yet initialized. Initializing...\n",
      "To remove this warning, run the following python code before doing dataframe operations:\n",
      "\n",
      "    import ray\n",
      "    ray.init()\n",
      "\n",
      "2023-07-18 15:56:34,370\tINFO worker.py:1636 -- Started a local Ray instance.\n",
      "ParserWarning: Falling back to the 'python' engine because the 'c' engine does not support regex separators (separators > 1 char and different from '\\s+' are interpreted as regex); you can avoid this warning by specifying engine='python'.\n"
     ]
    },
    {
     "data": {
      "text/html": [
       "<div>\n",
       "<style scoped>\n",
       "    .dataframe tbody tr th:only-of-type {\n",
       "        vertical-align: middle;\n",
       "    }\n",
       "\n",
       "    .dataframe tbody tr th {\n",
       "        vertical-align: top;\n",
       "    }\n",
       "\n",
       "    .dataframe thead th {\n",
       "        text-align: right;\n",
       "    }\n",
       "</style>\n",
       "<table border=\"1\" class=\"dataframe\">\n",
       "  <thead>\n",
       "    <tr style=\"text-align: right;\">\n",
       "      <th></th>\n",
       "      <th>Lorem ipsum dolor sit amet, consectetur adipiscing elit, sed do eiusmod tempor incididunt ut labore et dolore magna aliqua. Ut enim ad minim veniam, quis nostrud exercitation ullamco laboris nisi ut aliquip ex ea commodo consequat. Duis aute irure dolor in reprehenderit in voluptate velit esse cillum dolore eu fugiat nulla pariatur.</th>\n",
       "    </tr>\n",
       "  </thead>\n",
       "  <tbody>\n",
       "    <tr>\n",
       "      <th>0</th>\n",
       "      <td>Excepteur sint occaecat cupidatat non proident...</td>\n",
       "    </tr>\n",
       "    <tr>\n",
       "      <th>1</th>\n",
       "      <td>quis nostrud exercitation ullamco laboris nisi...</td>\n",
       "    </tr>\n",
       "    <tr>\n",
       "      <th>2</th>\n",
       "      <td>Lorem ipsum dolor sit amet, consectetur adipis...</td>\n",
       "    </tr>\n",
       "    <tr>\n",
       "      <th>3</th>\n",
       "      <td>Excepteur sint occaecat cupidatat non proident...</td>\n",
       "    </tr>\n",
       "    <tr>\n",
       "      <th>4</th>\n",
       "      <td>Excepteur sint occaecat cupidatat non proident...</td>\n",
       "    </tr>\n",
       "  </tbody>\n",
       "</table>\n",
       "</div>"
      ],
      "text/plain": [
       "  Lorem ipsum dolor sit amet, consectetur adipiscing elit, sed do eiusmod tempor incididunt ut labore et dolore magna aliqua. Ut enim ad minim veniam, quis nostrud exercitation ullamco laboris nisi ut aliquip ex ea commodo consequat. Duis aute irure dolor in reprehenderit in voluptate velit esse cillum dolore eu fugiat nulla pariatur.\n",
       "0  Excepteur sint occaecat cupidatat non proident...                                                                                                                                                                                                                                                                                            \n",
       "1  quis nostrud exercitation ullamco laboris nisi...                                                                                                                                                                                                                                                                                            \n",
       "2  Lorem ipsum dolor sit amet, consectetur adipis...                                                                                                                                                                                                                                                                                            \n",
       "3  Excepteur sint occaecat cupidatat non proident...                                                                                                                                                                                                                                                                                            \n",
       "4  Excepteur sint occaecat cupidatat non proident...                                                                                                                                                                                                                                                                                            "
      ]
     },
     "execution_count": 9,
     "metadata": {},
     "output_type": "execute_result"
    }
   ],
   "source": [
    "# Read the file using Modin and measure computation time\n",
    "start_time = time.time()\n",
    "modin_data = mpd.read_csv(source_file, delimiter=config_data['inbound_delimiter'])\n",
    "modin_time = time.time() - start_time\n",
    "modin_data.head()"
   ]
  },
  {
   "cell_type": "code",
   "execution_count": 10,
   "id": "a8cb134c",
   "metadata": {},
   "outputs": [],
   "source": [
    "# Read the file using Dask.Bag and measure computation time\n",
    "start_time = time.time()\n",
    "dask_bag_data = db.read_text(source_file)\n",
    "dask_bag_time = time.time() - start_time"
   ]
  },
  {
   "cell_type": "code",
   "execution_count": 11,
   "id": "d86b13ca",
   "metadata": {},
   "outputs": [
    {
     "name": "stdout",
     "output_type": "stream",
     "text": [
      "Computation times for reading the file using different methods:\n",
      "Pandas: 33.23 seconds\n"
     ]
    }
   ],
   "source": [
    "print(\"Computation times for reading the file using different methods:\")\n",
    "print(\"Pandas: {:.2f} seconds\".format(pandas_time))"
   ]
  },
  {
   "cell_type": "code",
   "execution_count": 12,
   "id": "64c67a0e",
   "metadata": {},
   "outputs": [
    {
     "name": "stdout",
     "output_type": "stream",
     "text": [
      "Dask: 34.02 seconds\n"
     ]
    }
   ],
   "source": [
    "print(\"Dask: {:.2f} seconds\".format(dask_time))"
   ]
  },
  {
   "cell_type": "code",
   "execution_count": 13,
   "id": "f6d47ca3",
   "metadata": {},
   "outputs": [
    {
     "name": "stdout",
     "output_type": "stream",
     "text": [
      "Modin: 36.14 seconds\n"
     ]
    }
   ],
   "source": [
    "print(\"Modin: {:.2f} seconds\".format(modin_time))"
   ]
  },
  {
   "cell_type": "code",
   "execution_count": 14,
   "id": "d275e5bb",
   "metadata": {
    "scrolled": true
   },
   "outputs": [
    {
     "name": "stdout",
     "output_type": "stream",
     "text": [
      "Dask.bag: 0.01 seconds\n"
     ]
    }
   ],
   "source": [
    "print(\"Dask.bag: {:.2f} seconds\".format(dask_bag_time))"
   ]
  },
  {
   "cell_type": "code",
   "execution_count": 15,
   "id": "8aada256",
   "metadata": {},
   "outputs": [
    {
     "name": "stdout",
     "output_type": "stream",
     "text": [
      "All validations passed successfully\n",
      "Size of the actual file : 2.32830810546875 GB\n",
      "Total text length of actual file : 2108981248 characters\n",
      "Total number of words in the actual file : 384352257\n"
     ]
    },
    {
     "data": {
      "text/plain": [
       "True"
      ]
     },
     "execution_count": 15,
     "metadata": {},
     "output_type": "execute_result"
    }
   ],
   "source": [
    "# Validate the file with the expected format\n",
    "util.validate(dask_bag_data,config_data)"
   ]
  },
  {
   "cell_type": "code",
   "execution_count": 16,
   "id": "3dcc3ef5",
   "metadata": {
    "scrolled": false
   },
   "outputs": [
    {
     "name": "stdout",
     "output_type": "stream",
     "text": [
      "---------------Data Summary---------------\n",
      "Total number of words in file:  384352257\n",
      "Total length of words in file:  2108981248\n",
      "File Size in Bytes is 2500001792\n",
      "File Size in MegaBytes is 2384.1875\n",
      "File Size in GigaBytes is 2.32830810546875\n",
      "Frequency of words:\n",
      "lorem: 5554177\n",
      "ipsum: 5570560\n",
      "dolor: 11141120\n",
      "sit: 5570560\n",
      "amet: 5570560\n",
      "consectetur: 5570560\n",
      "adipiscing: 5570560\n",
      "elit: 5570560\n",
      "sed: 5570560\n",
      "do: 5570560\n",
      "eiusmod: 5570560\n",
      "tempor: 5570560\n",
      "incididunt: 5570560\n",
      "ut: 16711680\n",
      "labore: 5570560\n",
      "et: 5570560\n",
      "dolore: 11141120\n",
      "magna: 5570560\n",
      "aliqua: 5570560\n",
      "enim: 5570560\n",
      "ad: 5570560\n",
      "minim: 5570560\n",
      "veniam: 5570560\n",
      "quis: 5570560\n",
      "nostrud: 5570560\n",
      "exercitation: 5570560\n",
      "ullamco: 5570560\n",
      "laboris: 5570560\n",
      "nisi: 5570560\n",
      "aliquip: 5570560\n",
      "ex: 5570560\n",
      "ea: 5570560\n",
      "commodo: 5570560\n",
      "consequat: 5570560\n",
      "duis: 5570560\n",
      "aute: 5570560\n",
      "irure: 5570560\n",
      "in: 16711680\n",
      "reprehenderit: 5570560\n",
      "voluptate: 5570560\n",
      "velit: 5570560\n",
      "esse: 5570560\n",
      "cillum: 5570560\n",
      "eu: 5570560\n",
      "fugiat: 5570560\n",
      "nulla: 5570560\n",
      "pariatur: 5570560\n",
      "excepteur: 5570560\n",
      "sint: 5570560\n",
      "occaecat: 5570560\n",
      "cupidatat: 5570560\n",
      "non: 5570560\n",
      "proident: 5570560\n",
      "sunt: 5570560\n",
      "culpa: 5570560\n",
      "qui: 5570560\n",
      "officia: 5570560\n",
      "deserunt: 5570560\n",
      "mollit: 5570560\n",
      "anim: 5570560\n",
      "id: 5570560\n",
      "est: 5570560\n",
      "laborum: 5554177\n",
      "laborumlorem: 16383\n"
     ]
    }
   ],
   "source": [
    "# Get the summary of data\n",
    "util.get_data_summary(dask_bag_data,config_data)"
   ]
  },
  {
   "cell_type": "code",
   "execution_count": 19,
   "id": "642d7cac",
   "metadata": {},
   "outputs": [],
   "source": [
    "# Write the Bag to a pipe-separated text file in gz format\n",
    "# util.write(dask_bag_data, config_data)\n",
    "# COMMENTED DUE TO INSUFFICIENT MEMORY ERROR OF MY PC"
   ]
  },
  {
   "cell_type": "code",
   "execution_count": null,
   "id": "3b1d575c",
   "metadata": {},
   "outputs": [],
   "source": []
  }
 ],
 "metadata": {
  "kernelspec": {
   "display_name": "Python 3 (ipykernel)",
   "language": "python",
   "name": "python3"
  },
  "language_info": {
   "codemirror_mode": {
    "name": "ipython",
    "version": 3
   },
   "file_extension": ".py",
   "mimetype": "text/x-python",
   "name": "python",
   "nbconvert_exporter": "python",
   "pygments_lexer": "ipython3",
   "version": "3.9.16"
  }
 },
 "nbformat": 4,
 "nbformat_minor": 5
}
